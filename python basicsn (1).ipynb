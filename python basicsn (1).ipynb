{
 "cells": [
  {
   "cell_type": "code",
   "execution_count": 27,
   "id": "b6507dd4-3b3a-4a77-be40-fda313c815d0",
   "metadata": {},
   "outputs": [
    {
     "name": "stdout",
     "output_type": "stream",
     "text": [
      "hello world\n"
     ]
    }
   ],
   "source": [
    "                                 NAME: ALTAMASH KAZI\n",
    "                                EMAIL-altamashkazi1203@gmail.com\n",
    "                                ASSIGNMENT NAME-Python Basics\n",
    "\n",
    "\n",
    "1# \n",
    "print(\"hello world\")\n"
   ]
  },
  {
   "cell_type": "code",
   "execution_count": 60,
   "id": "6ce53c28-5d97-43cc-8701-24c6271ce4cf",
   "metadata": {
    "scrolled": true
   },
   "outputs": [
    {
     "name": "stdout",
     "output_type": "stream",
     "text": [
      "altamash\n",
      "23\n"
     ]
    }
   ],
   "source": [
    "2# \n",
    "print( \"altamash\")\n",
    "print(23)\n",
    "\n"
   ]
  },
  {
   "cell_type": "code",
   "execution_count": 62,
   "id": "a923759b-9f04-4cec-9c3d-f3e384e6335d",
   "metadata": {},
   "outputs": [
    {
     "name": "stdout",
     "output_type": "stream",
     "text": [
      "\n",
      "Here is a list of the Python keywords.  Enter any keyword to get more help.\n",
      "\n",
      "False               class               from                or\n",
      "None                continue            global              pass\n",
      "True                def                 if                  raise\n",
      "and                 del                 import              return\n",
      "as                  elif                in                  try\n",
      "assert              else                is                  while\n",
      "async               except              lambda              with\n",
      "await               finally             nonlocal            yield\n",
      "break               for                 not                 \n",
      "\n"
     ]
    }
   ],
   "source": [
    "#3\n",
    "help('keywords')"
   ]
  },
  {
   "cell_type": "code",
   "execution_count": 64,
   "id": "07926bcb-cbe1-479a-9e25-753479c330f0",
   "metadata": {},
   "outputs": [
    {
     "data": {
      "text/plain": [
       "True"
      ]
     },
     "execution_count": 64,
     "metadata": {},
     "output_type": "execute_result"
    }
   ],
   "source": [
    "#4\n",
    "bool(1)\n"
   ]
  },
  {
   "cell_type": "code",
   "execution_count": 76,
   "id": "9b3b7fd0-354b-4ba8-b0c5-9c4e5201fecf",
   "metadata": {},
   "outputs": [
    {
     "data": {
      "text/plain": [
       "[1, 2, 3, 4]"
      ]
     },
     "execution_count": 76,
     "metadata": {},
     "output_type": "execute_result"
    }
   ],
   "source": [
    "#5\n",
    "list_cont = [1, 2, 3, 4]\n",
    "list_cont "
   ]
  },
  {
   "cell_type": "code",
   "execution_count": 132,
   "id": "c39aaeba-b04b-469a-8d10-26e8b786f4b0",
   "metadata": {},
   "outputs": [
    {
     "data": {
      "text/plain": [
       "1"
      ]
     },
     "execution_count": 132,
     "metadata": {},
     "output_type": "execute_result"
    }
   ],
   "source": [
    "list_cont[0]"
   ]
  },
  {
   "cell_type": "code",
   "execution_count": 148,
   "id": "f47eaffd-f764-4d23-adf4-4c47b52534ea",
   "metadata": {},
   "outputs": [
    {
     "data": {
      "text/plain": [
       "[100]"
      ]
     },
     "execution_count": 148,
     "metadata": {},
     "output_type": "execute_result"
    }
   ],
   "source": [
    "list_cont[0] = 100\n",
    "list_cont"
   ]
  },
  {
   "cell_type": "code",
   "execution_count": 150,
   "id": "f73e4aa0-80fb-4368-aaf0-21065b718ea1",
   "metadata": {},
   "outputs": [
    {
     "data": {
      "text/plain": [
       "True"
      ]
     },
     "execution_count": 150,
     "metadata": {},
     "output_type": "execute_result"
    }
   ],
   "source": [
    "#6\n",
    "True or True"
   ]
  },
  {
   "cell_type": "code",
   "execution_count": 152,
   "id": "3938285c-f01b-4e75-892c-11c03c35cc04",
   "metadata": {},
   "outputs": [
    {
     "data": {
      "text/plain": [
       "False"
      ]
     },
     "execution_count": 152,
     "metadata": {},
     "output_type": "execute_result"
    }
   ],
   "source": [
    "False and True"
   ]
  },
  {
   "cell_type": "code",
   "execution_count": 160,
   "id": "a0e52871-26e7-408a-bdcb-b0afd5ce4ca9",
   "metadata": {},
   "outputs": [
    {
     "data": {
      "text/plain": [
       "10"
      ]
     },
     "execution_count": 160,
     "metadata": {},
     "output_type": "execute_result"
    }
   ],
   "source": [
    "#7\n",
    "a = 10\n",
    "a"
   ]
  },
  {
   "cell_type": "code",
   "execution_count": 162,
   "id": "c581f861-e531-45d6-b518-0595fe8d6c2f",
   "metadata": {},
   "outputs": [
    {
     "data": {
      "text/plain": [
       "'Ajay'"
      ]
     },
     "execution_count": 162,
     "metadata": {},
     "output_type": "execute_result"
    }
   ],
   "source": [
    "b = \"Ajay\"\n",
    "b"
   ]
  },
  {
   "cell_type": "code",
   "execution_count": 166,
   "id": "b14b78bd-7e71-4dc3-ad7b-d80585fda05e",
   "metadata": {},
   "outputs": [
    {
     "data": {
      "text/plain": [
       "str"
      ]
     },
     "execution_count": 166,
     "metadata": {},
     "output_type": "execute_result"
    }
   ],
   "source": [
    "type(b)\n"
   ]
  },
  {
   "cell_type": "code",
   "execution_count": 180,
   "id": "284ec0e4-b3ef-4560-93b7-3c45bc3421c4",
   "metadata": {},
   "outputs": [
    {
     "data": {
      "text/plain": [
       "'Ajay'"
      ]
     },
     "execution_count": 180,
     "metadata": {},
     "output_type": "execute_result"
    }
   ],
   "source": [
    "str(b)\n",
    "b"
   ]
  },
  {
   "cell_type": "code",
   "execution_count": 188,
   "id": "d4afd83f-3f35-4d6d-9510-0cab78d331d1",
   "metadata": {},
   "outputs": [
    {
     "data": {
      "text/plain": [
       "10.0"
      ]
     },
     "execution_count": 188,
     "metadata": {},
     "output_type": "execute_result"
    }
   ],
   "source": [
    "float(a)"
   ]
  },
  {
   "cell_type": "raw",
   "id": "1674a9d1-5f72-41b3-b278-a5fcba6b8654",
   "metadata": {},
   "source": [
    "                                 NAME: ALTAMASH KAZI\n",
    "                                EMAIL-altamashkazi1203@gmail.com\n",
    "                                ASSIGNMENT NAME-Python Basics\n",
    "\n",
    "\n",
    "\n",
    "\n",
    "\n",
    "#1\n",
    "-python is high level prgramming language and it is easy to learn.\n",
    "    \n",
    "#2\n",
    "  -interpreter is computer program that translates code in python.\n",
    "\n",
    "#3\n",
    "  - pedefined words that have speacial meaning uses that are reserved\n",
    "#4\n",
    "-keywords cannot be used as variable names\n",
    "\n",
    "#5\n",
    "-mutability is whose state  or value can be changed after they created\n",
    "\n",
    "#6\n",
    "-tuples are immutable objects and list are mutable objects due to tuples have fixed length and lists have dynamic length.\n",
    "\n",
    "#7\n",
    "-== is operator compares values of two objects while is operator compare two variables\n",
    "#8\n",
    "-logical operator are And ,OR,Not operators they can be used as booleans expressions.to detemine true value of expressions.\n",
    "\n",
    "#9\n",
    "-casting means to change form of data type to another\n",
    "\n",
    "#10\n",
    "- in implicit type casting data can convert automatic and in explicit casting we can manually convert data type to another\n",
    "\n",
    "#11\n",
    "-conditional statement is to control flow of program by making certain conditions\n",
    "\n",
    "#12\n",
    "-in elif statement if first condition is false thn it moves on to next statement it can be used to check multiple conditions\n",
    "\n",
    "#13\n",
    "-for loops repats sequences till nof time while loop is used to execute statement while condition is true."
   ]
  }
 ],
 "metadata": {
  "kernelspec": {
   "display_name": "Python 3 (ipykernel)",
   "language": "python",
   "name": "python3"
  },
  "language_info": {
   "codemirror_mode": {
    "name": "ipython",
    "version": 3
   },
   "file_extension": ".py",
   "mimetype": "text/x-python",
   "name": "python",
   "nbconvert_exporter": "python",
   "pygments_lexer": "ipython3",
   "version": "3.12.7"
  }
 },
 "nbformat": 4,
 "nbformat_minor": 5
}
